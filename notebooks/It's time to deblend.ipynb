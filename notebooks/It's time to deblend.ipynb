{
 "cells": [
  {
   "cell_type": "code",
   "execution_count": 127,
   "metadata": {
    "collapsed": true
   },
   "outputs": [],
   "source": [
    "from __future__ import print_function, division\n",
    "import glob\n",
    "from astropy.io import fits\n",
    "# import astropy.modeling.models as models\n",
    "import numpy as np\n",
    "# from scipy import stats\n",
    "# import astropy.stats\n",
    "from astropy import table\n",
    "# from astropy import wcs\n",
    "# from astropy import convolution\n",
    "# import lupton_rgb\n",
    "# import img_scale\n",
    "import sys\n",
    "sys.path.insert(1, '..')"
   ]
  },
  {
   "cell_type": "code",
   "execution_count": 128,
   "metadata": {
    "collapsed": true
   },
   "outputs": [],
   "source": [
    "%matplotlib inline\n",
    "import matplotlib\n",
    "from matplotlib.colors import LogNorm\n",
    "from matplotlib import pyplot as plt\n",
    "plt.style.use('ggplot')\n",
    "matplotlib.rcParams['image.origin'] = 'lower'\n",
    "matplotlib.rcParams['image.interpolation'] = 'nearest'\n",
    "matplotlib.rcParams['image.cmap'] = 'gray'\n",
    "matplotlib.rcParams['axes.grid'] = False"
   ]
  },
  {
   "cell_type": "code",
   "execution_count": 129,
   "metadata": {
    "collapsed": true
   },
   "outputs": [],
   "source": [
    "from IPython.display import display"
   ]
  },
  {
   "cell_type": "code",
   "execution_count": 130,
   "metadata": {
    "collapsed": true
   },
   "outputs": [],
   "source": [
    "# import blendcollection"
   ]
  },
  {
   "cell_type": "code",
   "execution_count": 131,
   "metadata": {
    "collapsed": true
   },
   "outputs": [],
   "source": [
    "import lsst.afw.table\n",
    "import lsst.afw.image\n",
    "import lsst.afw.math\n",
    "import lsst.meas.algorithms\n",
    "import lsst.meas.base\n",
    "import lsst.meas.deblender\n",
    "from astropy.table import Table\n",
    "import numpy\n",
    "\n",
    "def deblend_run(image_array, variance_array, psf_array):\n",
    "    schema = lsst.afw.table.SourceTable.makeMinimalSchema()\n",
    "    detect = lsst.meas.algorithms.SourceDetectionTask(schema=schema)\n",
    "#     detect.config.doTempLocalBackground = True\n",
    "    deblend = lsst.meas.deblender.SourceDeblendTask(schema=schema)\n",
    "    measure = lsst.meas.base.SingleFrameMeasurementTask(schema=schema)\n",
    "    \n",
    "    image_array = image_array.astype(np.float32).copy()\n",
    "    image_array -= image_array[1:100,1:100].mean()\n",
    "\n",
    "    image = lsst.afw.image.ImageF(image_array.astype(np.float32))\n",
    "    variance = lsst.afw.image.ImageF(variance_array.astype(np.float32))\n",
    "    masked_image = lsst.afw.image.MaskedImageF(image, None, variance)\n",
    "\n",
    "    psf_image = lsst.afw.image.ImageD(psf_array.astype(np.float64))\n",
    "    psf_kernel = lsst.afw.math.FixedKernel(psf_image)\n",
    "    psf = lsst.meas.algorithms.KernelPsf(psf_kernel)\n",
    "\n",
    "    exposure = lsst.afw.image.ExposureF(masked_image)\n",
    "    exposure.setPsf(psf)\n",
    "\n",
    "    table = lsst.afw.table.SourceTable.make(schema)  # this is really just a factory for records, not a table\n",
    "    detect_result = detect.run(table, exposure)\n",
    "\n",
    "    catalog = detect_result.sources   # this is the actual catalog, but most of it's still empty\n",
    "\n",
    "    deblend.run(exposure, catalog)\n",
    "\n",
    "    measure.run(catalog, exposure)\n",
    "    return catalog\n",
    "\n",
    "def _deblend_scene(scene, band='u', cutoff_sigma=3):\n",
    "    idx = scene.bands_to_indices[band]\n",
    "    std = numpy.std(scene.canvas[idx][1:100,1:100])\n",
    "    variance = std**2\n",
    "#     variance = np.average(scene.canvas[idx][0:10,0:10])\n",
    "    stack_catalog = deblend_run(\n",
    "        image_array=scene.canvas[idx],\n",
    "        variance_array=np.ones_like(scene.canvas[idx]) * variance,\n",
    "        psf_array=psf_hdulist[band.upper()].data,\n",
    "    )\n",
    "    stack_catalog.writeFits('./temp.fits')\n",
    "    catalog = Table.read('./temp.fits')\n",
    "    mask = catalog['base_PsfFlux_flux'] > 3 * std\n",
    "    faint = catalog[~mask]\n",
    "    good_catalog = catalog[mask]\n",
    "    fig, ax = plt.subplots(figsize=(10, 10))\n",
    "    ax.imshow(scene.canvas[idx], norm=LogNorm())\n",
    "    ax.scatter(good_catalog['base_GaussianCentroid_x'], good_catalog['base_GaussianCentroid_y'], color='blue')\n",
    "    ax.scatter(faint['base_GaussianCentroid_x'], faint['base_GaussianCentroid_y'], color='red')\n",
    "    ymax, xmax = scene.canvas[idx].shape\n",
    "    ax.set_xlim(0, ymax-1)\n",
    "    ax.set_ylim(0, xmax-1)\n",
    "    display(fig)\n",
    "    return catalog"
   ]
  },
  {
   "cell_type": "code",
   "execution_count": 109,
   "metadata": {
    "collapsed": true
   },
   "outputs": [],
   "source": [
    "from lsst.meas.deblender.baseline import newDeblend"
   ]
  },
  {
   "cell_type": "code",
   "execution_count": 110,
   "metadata": {
    "collapsed": true
   },
   "outputs": [],
   "source": [
    "from lsst.meas.deblender.baseline import plugins"
   ]
  },
  {
   "cell_type": "markdown",
   "metadata": {},
   "source": [
    "# Copypasta?\n",
    "\n",
    "It looks like [lsst.meas.deblender.deblend.SourceDeblendTask.deblend](https://github.com/lsst/meas_deblender/blob/master/python/lsst/meas/deblender/deblend.py#L246) just calls [lsst.meas.deblender.baseline.deblend](https://github.com/lsst/meas_deblender/blob/master/python/lsst/meas/deblender/baseline.py#L447).\n",
    "\n",
    "`lsst.meas.deblender.baseline.deblend` assembles a list of `meas.deblender.plugins.DeblenderPlugin` instances to pass to [newDeblend](https://github.com/lsst/meas_deblender/blob/master/python/lsst/meas/deblender/baseline.py#L672), which in turn loops over the plugins and runs them individually.\n",
    "\n",
    "To enable the multicolor deblending, it looks like we need to call `newDeblend()` with some different plugins.\n",
    "\n",
    "So we need to copy `lsst.meas.deblender.baseline.deblend()`."
   ]
  },
  {
   "cell_type": "code",
   "execution_count": 111,
   "metadata": {
    "collapsed": true
   },
   "outputs": [],
   "source": [
    "def deblend(footprint, maskedImage, psf, psffwhm, filters=None,\n",
    "            psfChisqCut1=1.5, psfChisqCut2=1.5, psfChisqCut2b=1.5, fitPsfs=True,\n",
    "            medianSmoothTemplate=True, medianFilterHalfsize=2,\n",
    "            monotonicTemplate=True, weightTemplates=False,\n",
    "            log=None, verbose=False, sigma1=None, maxNumberOfPeaks=0,\n",
    "            assignStrayFlux=True, strayFluxToPointSources='necessary', strayFluxAssignment='r-to-peak',\n",
    "            rampFluxAtEdge=False, patchEdges=False, tinyFootprintSize=2,\n",
    "            getTemplateSum=False, clipStrayFluxFraction=0.001, clipFootprintToNonzero=True,\n",
    "            removeDegenerateTemplates=False, maxTempDotProd=0.5\n",
    "            ):\n",
    "    \"\"\"Deblend a parent ``Footprint`` in a ``MaskedImageF``.\n",
    "    \n",
    "    Deblending assumes that ``footprint`` has multiple peaks, as it will still create a\n",
    "    `PerFootprint` object with a list of peaks even if there is only one peak in the list.\n",
    "    It is recommended to first check that ``footprint`` has more than one peak, similar to the\n",
    "    execution of `lsst.meas.deblender.deblend.SourceDeblendTask`.\n",
    "    .. note::\n",
    "        This is the API for the old deblender, however the function builds the plugins necessary\n",
    "        to use the new deblender to perform identically to the old deblender.\n",
    "        To test out newer functionality use ``newDeblend`` instead.\n",
    "    Deblending involves several mandatory and optional steps:\n",
    "    # Optional: If ``fitPsfs`` is True, find all peaks that are well-fit by a PSF + background model\n",
    "        * Peaks that pass the cuts have their footprints modified to the PSF + background model\n",
    "          and their ``deblendedAsPsf`` property set to ``True``.\n",
    "        * Relevant parameters: ``psfChisqCut1``, ``psfChisqCut2``, ``psfChisqCut2b``,\n",
    "          ``tinyFootprintSize``.\n",
    "        * See the parameter descriptions for more.\n",
    "    # Build a symmetric template for each peak not well-fit by the PSF model\n",
    "        * Given ``maskedImageF``, ``footprint``, and a ``DeblendedPeak``, creates a symmetric\n",
    "          template (``templateImage`` and ``templateFootprint``) around the peak\n",
    "          for all peaks not flagged as ``skip`` or ``deblendedAsPsf``.\n",
    "        * If ``patchEdges=True`` and if ``footprint`` touches pixels with the\n",
    "          ``EDGE`` bit set, then ``footprint`` is grown to include spans whose\n",
    "          symmetric mirror is outside of the image.\n",
    "        * Relevant parameters: ``sigma1`` and ``patchEdges``.\n",
    "    # Optional: If ``rampFluxAtEdge`` is True, adjust flux on the edges of the template footprints\n",
    "        * Using the PSF, a peak ``Footprint`` with pixels on the edge of of ``footprint``\n",
    "          is grown by the psffwhm*1.5 and filled in with zeros.\n",
    "        * The result is a new symmetric footprint template for the peaks near the edge.\n",
    "        * Relevant parameter: ``patchEdges``.\n",
    "    # Optionally (``medianSmoothTemplate=True``) filter the template images\n",
    "        * Apply a median smoothing filter to all of the template images.\n",
    "        * Relevant parameters: ``medianFilterHalfSize``\n",
    "    # Optional: If ``monotonicTemplate`` is True, make the templates monotonic.\n",
    "        * The pixels in the templates are modified such that pixels\n",
    "          further from the peak will have values smaller than those closer to the peak.\n",
    "    # Optional: If ``clipFootprintToNonzero`` is True, clip non-zero spans in the template footprints\n",
    "        * Peak ``Footprint``s are clipped to the region in the image containing non-zero values\n",
    "          by dropping spans that are completely zero and moving endpoints to non-zero pixels\n",
    "          (but does not split spans that have internal zeros).\n",
    "    # Optional: If ``weightTemplates`` is True,  weight the templates to best fit the observed image\n",
    "        * Re-weight the templates so that their linear combination\n",
    "          best represents the observed ``maskedImage``\n",
    "    # Optional: If ``removeDegenerateTempaltes`` is True, reconstruct shredded galaxies\n",
    "        * If galaxies have substructure, such as face-on spirals, the process of identifying peaks can\n",
    "          \"shred\" the galaxy into many pieces. The templates of shredded galaxies are typically quite\n",
    "          similar because they represent the same galaxy, so we try to identify these \"degenerate\" peaks\n",
    "          by looking at the inner product (in pixel space) of pairs of templates.\n",
    "        * If they are nearly parallel, we only keep one of the peaks and reject the other.\n",
    "        * If only one of the peaks is a PSF template, the other template is used,\n",
    "          otherwise the one with the maximum template value is kept.\n",
    "        * Relevant parameters: ``maxTempDotProduct``\n",
    "    # Apportion flux to all of the peak templates\n",
    "        * Divide the ``maskedImage`` flux amongst all of the templates based on the fraction of \n",
    "          flux assigned to each ``tempalteFootprint``.\n",
    "        * Leftover \"stray flux\" is assigned to peaks based on the other parameters.\n",
    "        * Relevant parameters: ``clipStrayFluxFraction``, ``strayFluxAssignment``,\n",
    "          ``strayFluxToPointSources``, ``assignStrayFlux``\n",
    "    \n",
    "    Parameters\n",
    "    ----------\n",
    "    footprint: `afw.detection.Footprint`\n",
    "        Parent footprint to deblend\n",
    "    maskedImage: `afw.image.MaskedImageF`\n",
    "        Masked image containing the ``footprint``\n",
    "    psf: `afw.detection.Psf`\n",
    "        Psf of the ``maskedImage``\n",
    "    psffwhm: `float`\n",
    "        FWHM of the ``maskedImage``'s ``psf``\n",
    "    psfChisqCut*: `float`, optional\n",
    "        If ``fitPsfs==True``, all of the peaks are fit to the image PSF.\n",
    "        ``psfChisqCut1`` is the maximum chi-squared-per-degree-of-freedom allowed for a peak to\n",
    "        be considered a PSF match without recentering.\n",
    "        A fit is also made that includes terms to recenter the PSF.\n",
    "        ``psfChisqCut2`` is the same as ``psfChisqCut1`` except it determines the restriction on the\n",
    "        fit that includes recentering terms.\n",
    "        If the peak is a match for a re-centered PSF, the PSF is repositioned at the new center and\n",
    "        the peak footprint is fit again, this time to the new PSF.\n",
    "        If the resulting chi-squared-per-degree-of-freedom is less than ``psfChisqCut2b`` then it\n",
    "        passes the re-centering algorithm.\n",
    "        If the peak passes both the re-centered and fixed position cuts, the better of the two is accepted,\n",
    "        but parameters for all three psf fits are stored in the ``DeblendedPeak``.\n",
    "        The default for ``psfChisqCut1``, ``psfChisqCut2``, and ``psfChisqCut2b`` is ``1.5``.\n",
    "    fitPsfs: `bool`, optional\n",
    "        If True then all of the peaks will be compared to the image PSF to\n",
    "        distinguish stars from galaxies.\n",
    "    medianSmoothTemplate: ``bool``, optional\n",
    "        If ``medianSmoothTemplate==True`` it a median smoothing filter is applied to the ``maskedImage``.\n",
    "        The default is ``True``.\n",
    "    medianFilterHalfSize: `int`, optional\n",
    "        Half the box size of the median filter, ie a ``medianFilterHalfSize`` of 50 means that\n",
    "        each output pixel will be the median of  the pixels in a 101 x 101-pixel box in the input image.\n",
    "        This parameter is only used when ``medianSmoothTemplate==True``, otherwise it is ignored.\n",
    "        The default value is 2.\n",
    "    monotonicTempalte: `bool`, optional\n",
    "        If True then make the template monotonic.\n",
    "        The default is True.\n",
    "    weightTemplates: `bool`, optional\n",
    "        If True, re-weight the templates so that their linear combination best represents\n",
    "        the observed ``maskedImage``.\n",
    "        The default is False.\n",
    "    log: `log.Log`, optional\n",
    "        LSST logger for logging purposes.\n",
    "        The default is ``None`` (no logging).\n",
    "    verbose: `bool`, optional\n",
    "        Whether or not to show a more verbose output.\n",
    "        The default is ``False``.\n",
    "    sigma1: `float`, optional\n",
    "        Average noise level in ``maskedImage``.\n",
    "        The default is ``None``, which estimates the noise from the median value of ``maskedImage``.\n",
    "    maxNumberOfPeaks: `int`, optional\n",
    "        If nonzero, the maximum number of peaks to deblend.\n",
    "        If the total number of peaks is greater than ``maxNumberOfPeaks``,\n",
    "        then only the first ``maxNumberOfPeaks`` sources are deblended.\n",
    "        The default is 0, which deblends all of the peaks.\n",
    "    assignStrayFlux: `bool`, optional\n",
    "        If True then flux in the parent footprint that is not covered by any of the\n",
    "        template footprints is assigned to templates based on their 1/(1+r^2) distance.\n",
    "        How the flux is apportioned is determined by ``strayFluxAssignment``.\n",
    "        The default is True.\n",
    "    strayFluxToPointSources: `string`\n",
    "        Determines how stray flux is apportioned to point sources\n",
    "        * ``never``: never apportion stray flux to point sources\n",
    "        * ``necessary`` (default): point sources are included only if there are no extended sources nearby\n",
    "        * ``always``: point sources are always included in the 1/(1+r^2) splitting\n",
    "    strayFluxAssignment: `string`, optional\n",
    "        Determines how stray flux is apportioned.\n",
    "        * ``trim``: Trim stray flux and do not include in any footprints\n",
    "        * ``r-to-peak`` (default): Stray flux is assigned based on (1/(1+r^2) from the peaks\n",
    "        * ``r-to-footprint``: Stray flux is distributed to the footprints based on 1/(1+r^2) of the\n",
    "          minimum distance from the stray flux to footprint\n",
    "        * ``nearest-footprint``: Stray flux is assigned to the footprint with lowest L-1 (Manhattan)\n",
    "          distance to the stray flux\n",
    "    rampFluxAtEdge: `bool`, optional\n",
    "        If True then extend footprints with excessive flux on the edges as described above.\n",
    "        The default is False.\n",
    "    patchEdges: `bool`, optional\n",
    "        If True and if the footprint touches pixels with the ``EDGE`` bit set,\n",
    "        then grow the footprint to include all symmetric templates.\n",
    "        The default is ``False``.\n",
    "    tinyFootprintSize: `float`, optional\n",
    "        The PSF model is shrunk to the size that contains the original footprint.\n",
    "        If the bbox of the clipped PSF model for a peak is smaller than ``max(tinyFootprintSize,2)``\n",
    "        then ``tinyFootprint`` for the peak is set to ``True`` and the peak is not fit.\n",
    "        The default is 2.\n",
    "    getTemplateSum: `bool`, optional\n",
    "        As part of the flux calculation, the sum of the templates is calculated.\n",
    "        If ``getTemplateSum==True`` then the sum of the templates is stored in the result (a `PerFootprint`).\n",
    "        The default is False.\n",
    "    clipStrayFluxFraction: `float`, optional\n",
    "        Minimum stray-flux portion.\n",
    "        Any stray-flux portion less than ``clipStrayFluxFraction`` is clipped to zero.\n",
    "        The default is 0.001.\n",
    "    clipFootprintToNonzero: `bool`, optional\n",
    "        If True then clip non-zero spans in the template footprints. See above for more.\n",
    "        The default is True.\n",
    "    removeDegenerateTemplates: `bool`, optional\n",
    "        If True then we try to identify \"degenerate\" peaks by looking at the inner product\n",
    "        (in pixel space) of pairs of templates.\n",
    "        The default is False.\n",
    "    maxTempDotProduct: `float`, optional\n",
    "        All dot products between templates greater than ``maxTempDotProduct`` will result in one\n",
    "        of the templates removed. This parameter is only used when ``removeDegenerateTempaltes==True``.\n",
    "        The default is 0.5.\n",
    "    \n",
    "    Returns\n",
    "    -------\n",
    "    res: `PerFootprint`\n",
    "        Deblender result that contains a list of ``DeblendedPeak``s for each peak and (optionally)\n",
    "        the template sum.\n",
    "    \"\"\"\n",
    "    avgNoise = sigma1\n",
    "\n",
    "    debPlugins = []\n",
    "\n",
    "    # Add activated deblender plugins\n",
    "    if fitPsfs:\n",
    "        debPlugins.append(plugins.DeblenderPlugin(plugins.fitPsfs, \n",
    "                                                  psfChisqCut1=psfChisqCut1,\n",
    "                                                  psfChisqCut2=psfChisqCut2,\n",
    "                                                  psfChisqCut2b=psfChisqCut2b,\n",
    "                                                  tinyFootprintSize=tinyFootprintSize))\n",
    "    debPlugins.append(plugins.DeblenderPlugin(plugins.buildSymmetricTemplates, patchEdges=patchEdges))\n",
    "    if rampFluxAtEdge:\n",
    "        debPlugins.append(plugins.DeblenderPlugin(plugins.rampFluxAtEdge, patchEdges=patchEdges))\n",
    "    if medianSmoothTemplate:\n",
    "        debPlugins.append(plugins.DeblenderPlugin(plugins.medianSmoothTemplates,\n",
    "                                                  medianFilterHalfsize=medianFilterHalfsize))\n",
    "    if monotonicTemplate:\n",
    "        debPlugins.append(plugins.DeblenderPlugin(plugins.makeTemplatesMonotonic))\n",
    "    if clipFootprintToNonzero:\n",
    "        debPlugins.append(plugins.DeblenderPlugin(plugins.clipFootprintsToNonzero))\n",
    "    if weightTemplates:\n",
    "        debPlugins.append(plugins.DeblenderPlugin(plugins.weightTemplates))\n",
    "    if removeDegenerateTemplates:\n",
    "        if weightTemplates:\n",
    "            onReset = len(debPlugins)-1\n",
    "        else:\n",
    "            onReset = len(debPlugins)\n",
    "        debPlugins.append(plugins.DeblenderPlugin(plugins.reconstructTemplates,\n",
    "                                                  onReset=onReset,\n",
    "                                                  maxTempDotProd=maxTempDotProd))\n",
    "    debPlugins.append(plugins.DeblenderPlugin(plugins.apportionFlux,\n",
    "                                              clipStrayFluxFraction=clipStrayFluxFraction,\n",
    "                                              assignStrayFlux=assignStrayFlux,\n",
    "                                              strayFluxAssignment=strayFluxAssignment,\n",
    "                                              strayFluxToPointSources=strayFluxToPointSources,\n",
    "                                              getTemplateSum=getTemplateSum))\n",
    "\n",
    "    debResult = newDeblend(debPlugins, footprint, maskedImage, psf, psffwhm, filters, log, verbose, avgNoise)\n",
    "\n",
    "    return debResult"
   ]
  },
  {
   "cell_type": "code",
   "execution_count": 112,
   "metadata": {
    "collapsed": true
   },
   "outputs": [],
   "source": [
    "def quick_deblend_mono(scene_data, psf_data):\n",
    "    # Given NumPy float32 arrays containing the image to be measured and its variance, make an LSST\n",
    "    # \"MaskedImage\" to hold them.  This also holds a mask, which we'll set to None to make a blank mask.\n",
    "    image = lsst.afw.image.ImageF(scene_data.astype(np.float32))\n",
    "    variance = lsst.afw.image.ImageF(scene_data.astype(np.float32))\n",
    "    masked_image = lsst.afw.image.MaskedImageF(image, None, variance)\n",
    "    # Create a PSF object from a NumPy array of the PSF image.  This should have odd dimensions, and be\n",
    "    # centered on the center pixel.\n",
    "    psf_image = lsst.afw.image.ImageD(psf_data.astype(np.float64))\n",
    "    psf_kernel = lsst.afw.math.FixedKernel(psf_image)\n",
    "    psf = lsst.meas.algorithms.KernelPsf(psf_kernel)\n",
    "    deblend(footprint, maskedImage, psf, psffwhm)"
   ]
  },
  {
   "cell_type": "code",
   "execution_count": 113,
   "metadata": {
    "collapsed": true
   },
   "outputs": [],
   "source": [
    "test_img = fits.open('../synthetic/outputs/TwoGalaxies-A/delta_mag_1/delta_z_2.0/sep_1.250_arcsec.fits')"
   ]
  },
  {
   "cell_type": "code",
   "execution_count": 114,
   "metadata": {},
   "outputs": [
    {
     "name": "stdout",
     "output_type": "stream",
     "text": [
      "Filename: ../synthetic/outputs/TwoGalaxies-A/delta_mag_1/delta_z_2.0/sep_1.250_arcsec.fits\n",
      "No.    Name         Type      Cards   Dimensions   Format\n",
      "0    PRIMARY     PrimaryHDU      11   ()              \n",
      "1    BLENDED     ImageHDU         9   (64, 64, 5)   float64   \n",
      "2    TRUTH       ImageHDU         9   (128, 128, 5)   float64   \n",
      "3    BANDS       BinTableHDU     14   5R x 2C      [1A, E]   \n",
      "4    CATALOG     BinTableHDU     46   2R x 15C     [E, E, E, E, E, E, 20A, E, E, 20A, 5E, I, E, E, E]   \n"
     ]
    }
   ],
   "source": [
    "test_img.info()"
   ]
  },
  {
   "cell_type": "code",
   "execution_count": 115,
   "metadata": {},
   "outputs": [
    {
     "name": "stdout",
     "output_type": "stream",
     "text": [
      "Filename: ../synthetic/outputs/TwoGalaxies-A/chromatic_gaus_0.7_arcsec_sdss_i.fits\n",
      "No.    Name         Type      Cards   Dimensions   Format\n",
      "0    PRIMARY     PrimaryHDU       7   ()              \n",
      "1    U           ImageHDU        10   (25, 25)     float64   \n",
      "2    G           ImageHDU        10   (25, 25)     float64   \n",
      "3    R           ImageHDU        10   (25, 25)     float64   \n",
      "4    I           ImageHDU        10   (25, 25)     float64   \n",
      "5    Z           ImageHDU        10   (25, 25)     float64   \n"
     ]
    }
   ],
   "source": [
    "test_img_psf = fits.open('../synthetic/outputs/TwoGalaxies-A/chromatic_gaus_0.7_arcsec_sdss_i.fits')\n",
    "test_img_psf.info()"
   ]
  },
  {
   "cell_type": "code",
   "execution_count": 116,
   "metadata": {},
   "outputs": [
    {
     "ename": "NameError",
     "evalue": "global name 'maskedImage' is not defined",
     "output_type": "error",
     "traceback": [
      "\u001b[0;31m\u001b[0m",
      "\u001b[0;31mNameError\u001b[0mTraceback (most recent call last)",
      "\u001b[0;32m<ipython-input-116-5a11c5e560e8>\u001b[0m in \u001b[0;36m<module>\u001b[0;34m()\u001b[0m\n\u001b[0;32m----> 1\u001b[0;31m \u001b[0mquick_deblend_mono\u001b[0m\u001b[0;34m(\u001b[0m\u001b[0mtest_img\u001b[0m\u001b[0;34m[\u001b[0m\u001b[0;34m'BLENDED'\u001b[0m\u001b[0;34m]\u001b[0m\u001b[0;34m.\u001b[0m\u001b[0mdata\u001b[0m\u001b[0;34m[\u001b[0m\u001b[0;36m0\u001b[0m\u001b[0;34m]\u001b[0m\u001b[0;34m,\u001b[0m \u001b[0mtest_img_psf\u001b[0m\u001b[0;34m[\u001b[0m\u001b[0;34m'U'\u001b[0m\u001b[0;34m]\u001b[0m\u001b[0;34m.\u001b[0m\u001b[0mdata\u001b[0m\u001b[0;34m)\u001b[0m\u001b[0;34m\u001b[0m\u001b[0m\n\u001b[0m",
      "\u001b[0;32m<ipython-input-112-6abb07e9c408>\u001b[0m in \u001b[0;36mquick_deblend_mono\u001b[0;34m(scene_data, psf_data)\u001b[0m\n\u001b[1;32m     10\u001b[0m     \u001b[0mpsf_kernel\u001b[0m \u001b[0;34m=\u001b[0m \u001b[0mlsst\u001b[0m\u001b[0;34m.\u001b[0m\u001b[0mafw\u001b[0m\u001b[0;34m.\u001b[0m\u001b[0mmath\u001b[0m\u001b[0;34m.\u001b[0m\u001b[0mFixedKernel\u001b[0m\u001b[0;34m(\u001b[0m\u001b[0mpsf_image\u001b[0m\u001b[0;34m)\u001b[0m\u001b[0;34m\u001b[0m\u001b[0m\n\u001b[1;32m     11\u001b[0m     \u001b[0mpsf\u001b[0m \u001b[0;34m=\u001b[0m \u001b[0mlsst\u001b[0m\u001b[0;34m.\u001b[0m\u001b[0mmeas\u001b[0m\u001b[0;34m.\u001b[0m\u001b[0malgorithms\u001b[0m\u001b[0;34m.\u001b[0m\u001b[0mKernelPsf\u001b[0m\u001b[0;34m(\u001b[0m\u001b[0mpsf_kernel\u001b[0m\u001b[0;34m)\u001b[0m\u001b[0;34m\u001b[0m\u001b[0m\n\u001b[0;32m---> 12\u001b[0;31m     \u001b[0mdeblend\u001b[0m\u001b[0;34m(\u001b[0m\u001b[0mfootprint\u001b[0m\u001b[0;34m,\u001b[0m \u001b[0mmaskedImage\u001b[0m\u001b[0;34m,\u001b[0m \u001b[0mpsf\u001b[0m\u001b[0;34m,\u001b[0m \u001b[0mpsffwhm\u001b[0m\u001b[0;34m)\u001b[0m\u001b[0;34m\u001b[0m\u001b[0m\n\u001b[0m",
      "\u001b[0;31mNameError\u001b[0m: global name 'maskedImage' is not defined"
     ]
    }
   ],
   "source": [
    "quick_deblend_mono(test_img['BLENDED'].data[0], test_img_psf['U'].data)"
   ]
  },
  {
   "cell_type": "markdown",
   "metadata": {},
   "source": [
    "One way to create a `lsst.afw.detection.Footprint()` is with `__init__(lsst::afw::detection::Footprint self, Box2I bbox)`. So, probably we want a bounding box the size of our thing. That could be a problem for background estimation, I guess.\n",
    "\n",
    "Maybe instead we construct spans? `__init__(lsst::afw::detection::Footprint self, SpanContainerT spans)` is allowed."
   ]
  },
  {
   "cell_type": "code",
   "execution_count": 117,
   "metadata": {
    "collapsed": true
   },
   "outputs": [],
   "source": [
    "x= lsst.afw.geom.Box2I()"
   ]
  },
  {
   "cell_type": "code",
   "execution_count": 118,
   "metadata": {},
   "outputs": [
    {
     "data": {
      "text/plain": [
       "<lsst.afw.geom.geomLib.SpanVector; proxy of <Swig Object of type 'std::vector< lsst::afw::geom::Span > *' at 0x7f258397d090> >"
      ]
     },
     "execution_count": 118,
     "metadata": {},
     "output_type": "execute_result"
    }
   ],
   "source": [
    "lsst.afw.geom.SpanVector([])"
   ]
  },
  {
   "cell_type": "code",
   "execution_count": 119,
   "metadata": {},
   "outputs": [
    {
     "data": {
      "text/plain": [
       "<lsst.afw.detection.detectionLib.Footprint; proxy of <Swig Object of type 'std::shared_ptr< lsst::afw::detection::Footprint > *' at 0x7f2583990c00> >"
      ]
     },
     "execution_count": 119,
     "metadata": {},
     "output_type": "execute_result"
    }
   ],
   "source": [
    "lsst.afw.detection.Footprint()"
   ]
  },
  {
   "cell_type": "code",
   "execution_count": 120,
   "metadata": {},
   "outputs": [
    {
     "data": {
      "text/plain": [
       "<matplotlib.image.AxesImage at 0x7f25839a9f90>"
      ]
     },
     "execution_count": 120,
     "metadata": {},
     "output_type": "execute_result"
    },
    {
     "data": {
      "image/png": "[encoded data removed]",
      "text/plain": [
       "<matplotlib.figure.Figure at 0x7f2583936190>"
      ]
     },
     "metadata": {},
     "output_type": "display_data"
    }
   ],
   "source": [
    "plt.subplot(121)\n",
    "plt.imshow(test_img['BLENDED'].data[0], norm=LogNorm())\n",
    "plt.subplot(122)\n",
    "plt.imshow((test_img['BLENDED'].data[0] > 50).reshape(test_img['BLENDED'].data[0].shape))"
   ]
  },
  {
   "cell_type": "code",
   "execution_count": 121,
   "metadata": {},
   "outputs": [
    {
     "data": {
      "text/plain": [
       "array([[False, False, False, ...,  True, False, False],\n",
       "       [ True,  True, False, ...,  True,  True, False],\n",
       "       [False,  True, False, ...,  True,  True, False],\n",
       "       ..., \n",
       "       [ True, False,  True, ...,  True, False, False],\n",
       "       [False, False, False, ...,  True,  True,  True],\n",
       "       [False, False, False, ...,  True,  True, False]], dtype=bool)"
      ]
     },
     "execution_count": 121,
     "metadata": {},
     "output_type": "execute_result"
    }
   ],
   "source": [
    "test_img['BLENDED'].data[0] > 20"
   ]
  },
  {
   "cell_type": "code",
   "execution_count": 122,
   "metadata": {
    "collapsed": true
   },
   "outputs": [],
   "source": [
    "# def quick_deblend(scene_data, psf_data):\n",
    "scene_data = test_img['BLENDED'].data[0]\n",
    "psf_data = test_img_psf['U'].data\n",
    "# High-level algorithms are in classes called \"Tasks\".  Each of these has a Config\n",
    "# class to control how it runs; to use it, construct an instance of Task.ConfigClass(),\n",
    "# set attributes on it, and pass that as the config kwarg to the Task constructor.\n",
    "# It's usually a good idea to construct all Tasks before using any of them, mostly\n",
    "# to define the full schema of any catalogs we'll produce up front.\n",
    "schema = lsst.afw.table.SourceTable.makeMinimalSchema()\n",
    "detect = lsst.meas.algorithms.SourceDetectionTask(schema=schema)\n",
    "deblend = lsst.meas.deblender.SourceDeblendTask(schema=schema)\n",
    "measure = lsst.meas.base.SingleFrameMeasurementTask(schema=schema)\n",
    "# Given NumPy float32 arrays containing the image to be measured and its variance, make an LSST\n",
    "# \"MaskedImage\" to hold them.  This also holds a mask, which we'll set to None to make a blank mask.\n",
    "image = lsst.afw.image.ImageF(scene_data.astype(np.float32))\n",
    "variance = lsst.afw.image.ImageF(scene_data.astype(np.float32))\n",
    "masked_image = lsst.afw.image.MaskedImageF(image, None, variance)\n",
    "# Create a PSF object from a NumPy array of the PSF image.  This should have odd dimensions, and be\n",
    "# centered on the center pixel.\n",
    "psf_image = lsst.afw.image.ImageD(psf_data.astype(np.float64))\n",
    "psf_kernel = lsst.afw.math.FixedKernel(psf_image)\n",
    "psf = lsst.meas.algorithms.KernelPsf(psf_kernel)\n",
    "# Create an Exposure object that combines the MaskedImage with the PSF.  Exposures can hold\n",
    "# quite a bit more (WCS, photometric zeropoint (`Calib`), but I think this is all we need for now.\n",
    "exposure = lsst.afw.image.ExposureF(masked_image)\n",
    "exposure.setPsf(psf)\n",
    "# Run the tasks\n",
    "table = lsst.afw.table.SourceTable.make(schema)  # this is really just a factory for records, not a table\n",
    "detect_result = detect.run(table, exposure)\n",
    "catalog = detect_result.sources   # this is the actual catalog, but most of it's still empty\n",
    "deblend.run(exposure, catalog)\n",
    "# measure.run(catalog, exposure)\n",
    "# catalog = catalog.copy(deep=True)\n",
    "# catalog.writeFits('./detections.fits')\n",
    "# t = Table.read('./detections.fits', hdu=1)\n",
    "# os.remove('./detections.fits')\n",
    "# return t"
   ]
  },
  {
   "cell_type": "code",
   "execution_count": 123,
   "metadata": {
    "collapsed": true
   },
   "outputs": [],
   "source": [
    "def footprintToImage(fp, mi=None, mask=False):\n",
    "    if fp.isHeavy():\n",
    "        try:\n",
    "            fp = lsst.afw.detection.cast_HeavyFootprintF(fp) # not needed with pybind11\n",
    "        except AttributeError:\n",
    "            pass\n",
    "        pass\n",
    "    elif mi is None:\n",
    "        print >> sys.stderr, \"Unable to make a HeavyFootprint as image is None\"\n",
    "    else:\n",
    "        fp = lsst.afw.detection.makeHeavyFootprint(fp, mi)\n",
    "    bb = fp.getBBox()\n",
    "    if mask:\n",
    "        im = lsst.afw.image.MaskedImageF(bb.getWidth(), bb.getHeight())\n",
    "    else:\n",
    "        im = lsst.afw.image.ImageF(bb.getWidth(), bb.getHeight())\n",
    "    im.setXY0(bb.getMinX(), bb.getMinY())\n",
    "\n",
    "    try:\n",
    "        fp.insert(im)\n",
    "    except AttributeError:              # we failed to make it heavy\n",
    "        assert not mi\n",
    "        pass\n",
    "    \n",
    "    if mask:\n",
    "        im = im.getMask()\n",
    "    return im"
   ]
  },
  {
   "cell_type": "code",
   "execution_count": 124,
   "metadata": {},
   "outputs": [
    {
     "name": "stdout",
     "output_type": "stream",
     "text": [
      "0\n",
      "1\n",
      "2\n"
     ]
    },
    {
     "data": {
      "image/png": "[encoded data removed]",
      "text/plain": [
       "<matplotlib.figure.Figure at 0x7f257ff30e10>"
      ]
     },
     "metadata": {},
     "output_type": "display_data"
    },
    {
     "data": {
      "image/png": "[encoded data removed]",
      "text/plain": [
       "<matplotlib.figure.Figure at 0x7f25801c8d90>"
      ]
     },
     "metadata": {},
     "output_type": "display_data"
    },
    {
     "data": {
      "image/png": "[encoded data removed]",
      "text/plain": [
       "<matplotlib.figure.Figure at 0x7f257ff30d90>"
      ]
     },
     "metadata": {},
     "output_type": "display_data"
    }
   ],
   "source": [
    "for i, src in enumerate(catalog):\n",
    "    footprint = src.getFootprint()\n",
    "    print(i)\n",
    "    plt.figure()\n",
    "    if not footprint.isHeavy():\n",
    "        plt.imshow(footprintToImage(src.getFootprint(), mi=masked_image).getArray())\n",
    "    if i != 0:\n",
    "        plt.imshow(footprintToImage(src.getFootprint()).getArray())"
   ]
  },
  {
   "cell_type": "code",
   "execution_count": 125,
   "metadata": {
    "collapsed": true
   },
   "outputs": [],
   "source": [
    "footprint = src.getFootprint()"
   ]
  },
  {
   "cell_type": "code",
   "execution_count": 126,
   "metadata": {},
   "outputs": [
    {
     "data": {
      "text/plain": [
       "True"
      ]
     },
     "execution_count": 126,
     "metadata": {},
     "output_type": "execute_result"
    }
   ],
   "source": [
    "footprint.isHeavy()"
   ]
  },
  {
   "cell_type": "code",
   "execution_count": 86,
   "metadata": {
    "collapsed": true
   },
   "outputs": [],
   "source": [
    "fimg = lsst.afw.image.ImageI(footprint.getBBox())\n",
    "fimg.getArray()[:, :] = np.nan"
   ]
  },
  {
   "cell_type": "code",
   "execution_count": 87,
   "metadata": {},
   "outputs": [
    {
     "ename": "InvalidParameterError",
     "evalue": "\n  File \"src/detection/Footprint.cc\", line 599, in void lsst::afw::detection::{anonymous}::doInsertIntoImage(const lsst::afw::geom::Box2I&, const SpanList&, lsst::afw::image::Image<RhsPixelT>&, uint64_t, const lsst::afw::geom::Box2I&, long int, std::set<long unsigned int>*) [with bool overwriteId = false; PixelT = int; lsst::afw::detection::Footprint::SpanList = std::vector<std::shared_ptr<lsst::afw::geom::Span> >; uint64_t = long unsigned int]\n    Image of size (23x25) doesn't match Footprint's host Image of size (0x0) {0}\nlsst::pex::exceptions::InvalidParameterError: 'Image of size (23x25) doesn't match Footprint's host Image of size (0x0)'\n",
     "output_type": "error",
     "traceback": [
      "\u001b[0;31m\u001b[0m",
      "\u001b[0;31mInvalidParameterError\u001b[0mTraceback (most recent call last)",
      "\u001b[0;32m<ipython-input-87-6a413cc9bee2>\u001b[0m in \u001b[0;36m<module>\u001b[0;34m()\u001b[0m\n\u001b[0;32m----> 1\u001b[0;31m \u001b[0mfootprint\u001b[0m\u001b[0;34m.\u001b[0m\u001b[0minsertIntoImage\u001b[0m\u001b[0;34m(\u001b[0m\u001b[0mfimg\u001b[0m\u001b[0;34m,\u001b[0m \u001b[0;36m1\u001b[0m\u001b[0;34m)\u001b[0m\u001b[0;34m\u001b[0m\u001b[0m\n\u001b[0m",
      "\u001b[0;32m/user/jlong/miniconda2/envs/deblend/opt/lsst/afw/python/lsst/afw/detection/detectionLib.pyc\u001b[0m in \u001b[0;36minsertIntoImage\u001b[0;34m(self, *args)\u001b[0m\n\u001b[1;32m   2483\u001b[0m         \u001b[0minsertIntoImage\u001b[0m\u001b[0;34m(\u001b[0m\u001b[0mFootprint\u001b[0m \u001b[0mself\u001b[0m\u001b[0;34m,\u001b[0m \u001b[0mImageL\u001b[0m \u001b[0midImage\u001b[0m\u001b[0;34m,\u001b[0m \u001b[0mstd\u001b[0m\u001b[0;34m:\u001b[0m\u001b[0;34m:\u001b[0m\u001b[0muint64_t\u001b[0m \u001b[0mconst\u001b[0m \u001b[0mid\u001b[0m\u001b[0;34m,\u001b[0m \u001b[0mbool\u001b[0m \u001b[0mconst\u001b[0m \u001b[0moverwriteId\u001b[0m\u001b[0;34m,\u001b[0m \u001b[0mlong\u001b[0m \u001b[0mconst\u001b[0m \u001b[0midMask\u001b[0m\u001b[0;34m,\u001b[0m \u001b[0mstd\u001b[0m\u001b[0;34m:\u001b[0m\u001b[0;34m:\u001b[0m\u001b[0mset\u001b[0m\u001b[0;34m<\u001b[0m \u001b[0mstd\u001b[0m\u001b[0;34m:\u001b[0m\u001b[0;34m:\u001b[0m\u001b[0muint64_t\u001b[0m\u001b[0;34m,\u001b[0m\u001b[0mstd\u001b[0m\u001b[0;34m:\u001b[0m\u001b[0;34m:\u001b[0m\u001b[0mless\u001b[0m\u001b[0;34m<\u001b[0m \u001b[0mstd\u001b[0m\u001b[0;34m:\u001b[0m\u001b[0;34m:\u001b[0m\u001b[0muint64_t\u001b[0m \u001b[0;34m>\u001b[0m\u001b[0;34m,\u001b[0m\u001b[0mstd\u001b[0m\u001b[0;34m:\u001b[0m\u001b[0;34m:\u001b[0m\u001b[0mallocator\u001b[0m\u001b[0;34m<\u001b[0m \u001b[0mstd\u001b[0m\u001b[0;34m:\u001b[0m\u001b[0;34m:\u001b[0m\u001b[0muint64_t\u001b[0m \u001b[0;34m>\u001b[0m \u001b[0;34m>\u001b[0m \u001b[0;34m*\u001b[0m \u001b[0moldIds\u001b[0m\u001b[0;34m)\u001b[0m\u001b[0;34m\u001b[0m\u001b[0m\n\u001b[1;32m   2484\u001b[0m         \"\"\"\n\u001b[0;32m-> 2485\u001b[0;31m         \u001b[0;32mreturn\u001b[0m \u001b[0m_detectionLib\u001b[0m\u001b[0;34m.\u001b[0m\u001b[0mFootprint_insertIntoImage\u001b[0m\u001b[0;34m(\u001b[0m\u001b[0mself\u001b[0m\u001b[0;34m,\u001b[0m \u001b[0;34m*\u001b[0m\u001b[0margs\u001b[0m\u001b[0;34m)\u001b[0m\u001b[0;34m\u001b[0m\u001b[0m\n\u001b[0m\u001b[1;32m   2486\u001b[0m \u001b[0;34m\u001b[0m\u001b[0m\n\u001b[1;32m   2487\u001b[0m \u001b[0;34m\u001b[0m\u001b[0m\n",
      "\u001b[0;31mInvalidParameterError\u001b[0m: \n  File \"src/detection/Footprint.cc\", line 599, in void lsst::afw::detection::{anonymous}::doInsertIntoImage(const lsst::afw::geom::Box2I&, const SpanList&, lsst::afw::image::Image<RhsPixelT>&, uint64_t, const lsst::afw::geom::Box2I&, long int, std::set<long unsigned int>*) [with bool overwriteId = false; PixelT = int; lsst::afw::detection::Footprint::SpanList = std::vector<std::shared_ptr<lsst::afw::geom::Span> >; uint64_t = long unsigned int]\n    Image of size (23x25) doesn't match Footprint's host Image of size (0x0) {0}\nlsst::pex::exceptions::InvalidParameterError: 'Image of size (23x25) doesn't match Footprint's host Image of size (0x0)'\n"
     ]
    }
   ],
   "source": [
    "footprint.insertIntoImage(fimg, 1)"
   ]
  },
  {
   "cell_type": "code",
   "execution_count": 80,
   "metadata": {
    "collapsed": true
   },
   "outputs": [],
   "source": [
    "spans = footprint.getSpans()"
   ]
  },
  {
   "cell_type": "code",
   "execution_count": 82,
   "metadata": {},
   "outputs": [
    {
     "name": "stdout",
     "output_type": "stream",
     "text": [
      "19: 28..31\n",
      "20: 27..32\n",
      "21: 26..33\n",
      "22: 25..33\n",
      "23: 24..35\n",
      "24: 24..36\n",
      "25: 22..37\n",
      "26: 21..38\n",
      "27: 19..39\n",
      "28: 19..39\n",
      "29: 18..40\n",
      "30: 18..40\n",
      "31: 18..40\n",
      "32: 18..40\n",
      "33: 18..40\n",
      "34: 19..39\n",
      "35: 19..39\n",
      "36: 20..38\n",
      "37: 21..36\n",
      "38: 22..34\n",
      "39: 23..34\n",
      "40: 25..33\n",
      "41: 25..32\n",
      "42: 26..31\n",
      "43: 27..30\n"
     ]
    }
   ],
   "source": [
    "for span in spans.iterator():\n",
    "    print(span)"
   ]
  },
  {
   "cell_type": "code",
   "execution_count": 90,
   "metadata": {},
   "outputs": [
    {
     "ename": "NameError",
     "evalue": "name 'deblender' is not defined",
     "output_type": "error",
     "traceback": [
      "\u001b[0;31m\u001b[0m",
      "\u001b[0;31mNameError\u001b[0mTraceback (most recent call last)",
      "\u001b[0;32m<ipython-input-90-10e07fa287ce>\u001b[0m in \u001b[0;36m<module>\u001b[0;34m()\u001b[0m\n\u001b[0;32m----> 1\u001b[0;31m \u001b[0mdeblender\u001b[0m\u001b[0;34m.\u001b[0m\u001b[0mfootprintToImage\u001b[0m\u001b[0;34m(\u001b[0m\u001b[0mkid\u001b[0m\u001b[0;34m.\u001b[0m\u001b[0mgetFootprint\u001b[0m\u001b[0;34m(\u001b[0m\u001b[0;34m)\u001b[0m\u001b[0;34m,\u001b[0m \u001b[0mcalexp\u001b[0m\u001b[0;34m.\u001b[0m\u001b[0mgetMaskedImage\u001b[0m\u001b[0;34m(\u001b[0m\u001b[0;34m)\u001b[0m\u001b[0;34m)\u001b[0m\u001b[0;34m\u001b[0m\u001b[0m\n\u001b[0m",
      "\u001b[0;31mNameError\u001b[0m: name 'deblender' is not defined"
     ]
    }
   ],
   "source": [
    "deblender.footprintToImage(kid.getFootprint(), calexp.getMaskedImage())"
   ]
  },
  {
   "cell_type": "code",
   "execution_count": 91,
   "metadata": {},
   "outputs": [
    {
     "ename": "ImportError",
     "evalue": "No module named analysis",
     "output_type": "error",
     "traceback": [
      "\u001b[0;31m\u001b[0m",
      "\u001b[0;31mImportError\u001b[0mTraceback (most recent call last)",
      "\u001b[0;32m<ipython-input-91-27b3697ee8dd>\u001b[0m in \u001b[0;36m<module>\u001b[0;34m()\u001b[0m\n\u001b[0;32m----> 1\u001b[0;31m \u001b[0;32mimport\u001b[0m \u001b[0mlsst\u001b[0m\u001b[0;34m.\u001b[0m\u001b[0manalysis\u001b[0m\u001b[0;34m\u001b[0m\u001b[0m\n\u001b[0m",
      "\u001b[0;31mImportError\u001b[0m: No module named analysis"
     ]
    }
   ],
   "source": [
    "import lsst.analysis"
   ]
  },
  {
   "cell_type": "code",
   "execution_count": 89,
   "metadata": {},
   "outputs": [
    {
     "ename": "ImportError",
     "evalue": "No module named analysis.utils",
     "output_type": "error",
     "traceback": [
      "\u001b[0;31m\u001b[0m",
      "\u001b[0;31mImportError\u001b[0mTraceback (most recent call last)",
      "\u001b[0;32m<ipython-input-89-d5595dea828f>\u001b[0m in \u001b[0;36m<module>\u001b[0;34m()\u001b[0m\n\u001b[0;32m----> 1\u001b[0;31m \u001b[0;32mimport\u001b[0m \u001b[0mlsst\u001b[0m\u001b[0;34m.\u001b[0m\u001b[0manalysis\u001b[0m\u001b[0;34m.\u001b[0m\u001b[0mutils\u001b[0m \u001b[0;32mas\u001b[0m \u001b[0mutils\u001b[0m\u001b[0;34m\u001b[0m\u001b[0m\n\u001b[0m\u001b[1;32m      2\u001b[0m \u001b[0;32mimport\u001b[0m \u001b[0mlsst\u001b[0m\u001b[0;34m.\u001b[0m\u001b[0manalysis\u001b[0m\u001b[0;34m.\u001b[0m\u001b[0mdeblender\u001b[0m \u001b[0;32mas\u001b[0m \u001b[0mdeblender\u001b[0m\u001b[0;34m\u001b[0m\u001b[0m\n",
      "\u001b[0;31mImportError\u001b[0m: No module named analysis.utils"
     ]
    }
   ],
   "source": [
    "import lsst.analysis. .utils as utils\n",
    "import lsst.analysis.deblender as deblender"
   ]
  },
  {
   "cell_type": "markdown",
   "metadata": {},
   "source": [
    "Okay well I'll just copy and paste.."
   ]
  },
  {
   "cell_type": "code",
   "execution_count": 100,
   "metadata": {},
   "outputs": [
    {
     "data": {
      "text/plain": [
       "<matplotlib.image.AxesImage at 0x7f25804d6d50>"
      ]
     },
     "execution_count": 100,
     "metadata": {},
     "output_type": "execute_result"
    },
    {
     "data": {
      "image/png": "[encoded data removed]",
      "text/plain": [
       "<matplotlib.figure.Figure at 0x7f25804b5cd0>"
      ]
     },
     "metadata": {},
     "output_type": "display_data"
    }
   ],
   "source": [
    "plt.imshow(footprintToImage(footprint).getArray())"
   ]
  },
  {
   "cell_type": "code",
   "execution_count": null,
   "metadata": {
    "collapsed": true
   },
   "outputs": [],
   "source": []
  }
 ],
 "metadata": {
  "kernelspec": {
   "display_name": "Python 2",
   "language": "python",
   "name": "python2"
  },
  "language_info": {
   "codemirror_mode": {
    "name": "ipython",
    "version": 2
   },
   "file_extension": ".py",
   "mimetype": "text/x-python",
   "name": "python",
   "nbconvert_exporter": "python",
   "pygments_lexer": "ipython2",
   "version": "2.7.13"
  }
 },
 "nbformat": 4,
 "nbformat_minor": 2
}
