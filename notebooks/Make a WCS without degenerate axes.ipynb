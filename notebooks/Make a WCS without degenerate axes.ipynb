{
 "cells": [
  {
   "cell_type": "code",
   "execution_count": 11,
   "metadata": {
    "collapsed": true
   },
   "outputs": [],
   "source": [
    "import sys\n",
    "from astropy import wcs\n",
    "from os.path import abspath"
   ]
  },
  {
   "cell_type": "code",
   "execution_count": 12,
   "metadata": {},
   "outputs": [],
   "source": [
    "try:\n",
    "    import blendcollection\n",
    "except ImportError:\n",
    "    sys.path.insert(1, abspath('../blendcollection/'))\n",
    "    import blendcollection"
   ]
  },
  {
   "cell_type": "code",
   "execution_count": 16,
   "metadata": {},
   "outputs": [],
   "source": [
    "blend = blendcollection.load('../cutouts/candels/cosmos/products/COSMOS_150.09564450+2.2201489_at_0.70_arcsec.fits')"
   ]
  },
  {
   "cell_type": "code",
   "execution_count": 17,
   "metadata": {},
   "outputs": [
    {
     "data": {
      "text/plain": [
       "WCSAXES =                    2 / Number of coordinate axes                      \n",
       "CRPIX1  =               2048.0 / Pixel coordinate of reference point            \n",
       "CRPIX2  =               2048.0 / Pixel coordinate of reference point            \n",
       "CDELT1  =  5.5555555555556E-05 / [deg] Coordinate increment at reference point  \n",
       "CDELT2  =  5.5555555555556E-05 / [deg] Coordinate increment at reference point  \n",
       "CUNIT1  = 'deg'                / Units of coordinate increment and value        \n",
       "CUNIT2  = 'deg'                / Units of coordinate increment and value        \n",
       "CTYPE1  = 'RA---TAN'           / Right ascension, gnomonic projection           \n",
       "CTYPE2  = 'DEC--TAN'           / Declination, gnomonic projection               \n",
       "CRVAL1  =                  0.0 / [deg] Coordinate value at reference point      \n",
       "CRVAL2  =                  0.0 / [deg] Coordinate value at reference point      \n",
       "LONPOLE =                180.0 / [deg] Native longitude of celestial pole       \n",
       "LATPOLE =                  0.0 / [deg] Native latitude of celestial pole        \n",
       "RADESYS = 'ICRS'               / Equatorial coordinate system                   "
      ]
     },
     "execution_count": 17,
     "metadata": {},
     "output_type": "execute_result"
    }
   ],
   "source": [
    "mywcs = wcs.WCS(naxis=2)\n",
    "pixel_scale = 0.2\n",
    "mywcs.wcs.ctype = ['RA---TAN', 'DEC--TAN']\n",
    "mywcs.wcs.cunit = ['deg', 'deg']\n",
    "mywcs.wcs.cdelt = [\n",
    "    pixel_scale / 60 / 60, \n",
    "    pixel_scale / 60 / 60,\n",
    "]\n",
    "mywcs.wcs.crpix = [2048, 2048]\n",
    "mywcs.wcs.crval = [0, 0]\n",
    "mywcs.to_header()"
   ]
  },
  {
   "cell_type": "code",
   "execution_count": 19,
   "metadata": {},
   "outputs": [
    {
     "data": {
      "text/plain": [
       "XTENSION= 'IMAGE   '           / Image extension                                \n",
       "BITPIX  =                  -64 / array data type                                \n",
       "NAXIS   =                    3 / number of array dimensions                     \n",
       "NAXIS1  =                   83                                                  \n",
       "NAXIS2  =                   94                                                  \n",
       "NAXIS3  =                    6                                                  \n",
       "PCOUNT  =                    0 / number of parameters                           \n",
       "GCOUNT  =                    1 / number of groups                               \n",
       "WCSAXES =                    2 / Number of coordinate axes                      \n",
       "CRPIX1  =               -265.5 / Pixel coordinate of reference point            \n",
       "CRPIX2  =               -234.5 / Pixel coordinate of reference point            \n",
       "PC1_1   =        -6.666668E-05 / Coordinate transformation matrix element       \n",
       "PC2_2   =         6.666668E-05 / Coordinate transformation matrix element       \n",
       "CDELT1  =                  1.0 / [deg] Coordinate increment at reference point  \n",
       "CDELT2  =                  1.0 / [deg] Coordinate increment at reference point  \n",
       "CUNIT1  = 'deg'                / Units of coordinate increment and value        \n",
       "CUNIT2  = 'deg'                / Units of coordinate increment and value        \n",
       "CTYPE1  = 'RA---TAN'           / Right ascension, gnomonic projection           \n",
       "CTYPE2  = 'DEC--TAN'           / Declination, gnomonic projection               \n",
       "CRVAL1  =          150.1163213 / [deg] Coordinate value at reference point      \n",
       "CRVAL2  =          2.200973097 / [deg] Coordinate value at reference point      \n",
       "LONPOLE =                180.0 / [deg] Native longitude of celestial pole       \n",
       "LATPOLE =          2.200973097 / [deg] Native latitude of celestial pole        \n",
       "RADESYS = 'FK5'                / Equatorial coordinate system                   \n",
       "EQUINOX =               2000.0 / [yr] Equinox of equatorial coordinates         \n",
       "MJD-OBS =              55924.0 / [d] MJD of observation matching DATE-OBS       \n",
       "DATE-OBS= '2011-12-29'         / ISO-8601 observation date matching MJD-OBS     \n",
       "EXTNAME = 'BLENDED '                                                            \n",
       "FWHMAS  =                  0.7 / Kernel FWHM in arcseconds                      "
      ]
     },
     "execution_count": 19,
     "metadata": {},
     "output_type": "execute_result"
    }
   ],
   "source": [
    "blend._hdulist['BLENDED'].header"
   ]
  },
  {
   "cell_type": "code",
   "execution_count": 35,
   "metadata": {},
   "outputs": [],
   "source": [
    "hdr = blend._hdulist['BLENDED'].header\n",
    "mywcs = wcs.WCS(hdr, naxis=2)"
   ]
  },
  {
   "cell_type": "code",
   "execution_count": 38,
   "metadata": {},
   "outputs": [
    {
     "data": {
      "text/plain": [
       "150.11625458409833"
      ]
     },
     "execution_count": 38,
     "metadata": {},
     "output_type": "execute_result"
    }
   ],
   "source": [
    "(ra, dec), = mywcs.all_pix2world([[-265.5, -234.5]], 0)\n",
    "ra"
   ]
  },
  {
   "cell_type": "code",
   "execution_count": 42,
   "metadata": {},
   "outputs": [],
   "source": [
    "assert abs(ra - hdr['CRVAL1']) < 1./60/60"
   ]
  },
  {
   "cell_type": "code",
   "execution_count": null,
   "metadata": {
    "collapsed": true
   },
   "outputs": [],
   "source": []
  }
 ],
 "metadata": {
  "kernelspec": {
   "display_name": "Python 2",
   "language": "python",
   "name": "python2"
  },
  "language_info": {
   "codemirror_mode": {
    "name": "ipython",
    "version": 2
   },
   "file_extension": ".py",
   "mimetype": "text/x-python",
   "name": "python",
   "nbconvert_exporter": "python",
   "pygments_lexer": "ipython2",
   "version": "2.7.13"
  }
 },
 "nbformat": 4,
 "nbformat_minor": 2
}
