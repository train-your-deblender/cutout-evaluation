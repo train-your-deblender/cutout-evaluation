{
 "cells": [
  {
   "cell_type": "code",
   "execution_count": 2,
   "metadata": {},
   "outputs": [
    {
     "name": "stdout",
     "output_type": "stream",
     "text": [
      "Populating the interactive namespace from numpy and matplotlib\n"
     ]
    }
   ],
   "source": [
    "%pylab inline --no-import-all\n",
    "import matplotlib\n",
    "# Set up plotting style defaults\n",
    "from matplotlib import pyplot as plt\n",
    "plt.style.use('ggplot')\n",
    "matplotlib.rcParams['image.origin'] = 'lower'\n",
    "matplotlib.rcParams['image.cmap'] = 'magma'\n",
    "plt.cm.magma.set_bad('black')\n",
    "matplotlib.rcParams['axes.grid'] = False\n",
    "matplotlib.rcParams['image.interpolation'] = 'nearest'\n",
    "from matplotlib.colors import LogNorm"
   ]
  },
  {
   "cell_type": "code",
   "execution_count": 3,
   "metadata": {
    "collapsed": true
   },
   "outputs": [],
   "source": [
    "import sys\n",
    "from os.path import abspath\n",
    "\n",
    "try:\n",
    "    import blendcollection\n",
    "except ImportError:\n",
    "    sys.path.insert(1, abspath('../blendcollection/'))\n",
    "    import blendcollection"
   ]
  },
  {
   "cell_type": "code",
   "execution_count": 4,
   "metadata": {
    "collapsed": true
   },
   "outputs": [],
   "source": [
    "from IPython.display import display, HTML"
   ]
  },
  {
   "cell_type": "code",
   "execution_count": 5,
   "metadata": {
    "collapsed": true
   },
   "outputs": [],
   "source": [
    "from astropy.wcs import WCS"
   ]
  },
  {
   "cell_type": "code",
   "execution_count": 6,
   "metadata": {},
   "outputs": [
    {
     "name": "stderr",
     "output_type": "stream",
     "text": [
      "WARNING: VerifyWarning: Invalid keyword for column 6: `dim` argument must be a string containing a valid value for the TDIMn header keyword associated with this column, or a tuple containing the C-order dimensions for the column.  The invalid value will be ignored for the purpose of formatting this column. [astropy.io.fits.column]\n"
     ]
    }
   ],
   "source": [
    "cutout = blendcollection.load('../synthetic/outputs/TwoGalaxies-A/TwoGalaxies-A--dm-1-dz-1.0-sep-1.250.fits')"
   ]
  },
  {
   "cell_type": "code",
   "execution_count": 8,
   "metadata": {
    "collapsed": true
   },
   "outputs": [],
   "source": [
    "fig, (blended_axs, truth_axs) = plt.subplots(nrows=2, ncols=len(cutout.bands), figsize=(1.25 * len(cutout.bands), 2.5))\n",
    "for data, axs in zip((cutout.truth, cutout.blended), (truth_axs, blended_axs)):\n",
    "    for band, ax in zip(cutout.bands, axs):\n",
    "        ax.imshow(blendcollection.quick_mono(data[band]), cmap='magma')\n",
    "        ax.set_xticks([])\n",
    "        ax.set_yticks([])\n",
    "for band, ax in zip(cutout.bands, truth_axs):\n",
    "    ax.set_xlabel(band)\n",
    "\n",
    "truth_axs[0].set_ylabel('Truth')\n",
    "blended_axs[0].set_ylabel('Blended')\n",
    "plt.subplots_adjust(wspace=0.04, hspace=0.06, left=0.05, right=1, top=1-0.05, bottom=0.15)\n",
    "fig.savefig('ex.png')\n",
    "plt.close(fig)"
   ]
  },
  {
   "cell_type": "code",
   "execution_count": 9,
   "metadata": {},
   "outputs": [
    {
     "data": {
      "text/html": [
       "<img src=\"./ex.png\">"
      ],
      "text/plain": [
       "<IPython.core.display.HTML object>"
      ]
     },
     "metadata": {},
     "output_type": "display_data"
    }
   ],
   "source": [
    "display(HTML('<img src=\"./ex.png\">'))"
   ]
  },
  {
   "cell_type": "code",
   "execution_count": 11,
   "metadata": {
    "collapsed": true
   },
   "outputs": [],
   "source": [
    "cutout = blendcollection.load('../cutouts/candels/cosmos/products/COSMOS_150.09564450+2.2201489_at_0.70_arcsec.fits')"
   ]
  },
  {
   "cell_type": "code",
   "execution_count": 22,
   "metadata": {},
   "outputs": [],
   "source": [
    "fig, (blended_axs, truth_axs) = plt.subplots(nrows=2, ncols=len(cutout.bands), figsize=(1.25 * len(cutout.bands), 2.5))\n",
    "for data, axs in zip((cutout.truth, cutout.blended), (truth_axs, blended_axs)):\n",
    "    for band, ax in zip(cutout.bands, axs):\n",
    "        ax.imshow(blendcollection.quick_mono(data[band], contrast=0.125), cmap='Greys_r')\n",
    "        ax.set_xticks([])\n",
    "        ax.set_yticks([])\n",
    "for band, ax in zip(cutout.bands, truth_axs):\n",
    "    ax.set_xlabel(band)\n",
    "\n",
    "truth_axs[0].set_ylabel('Truth')\n",
    "blended_axs[0].set_ylabel('Blended')\n",
    "plt.subplots_adjust(wspace=0.04, hspace=0.06, left=0.05, right=1, top=1-0.05, bottom=0.15)\n",
    "fig.savefig('ex.png')\n",
    "plt.close(fig)"
   ]
  },
  {
   "cell_type": "code",
   "execution_count": 23,
   "metadata": {},
   "outputs": [
    {
     "data": {
      "text/html": [
       "<img src=\"./ex.png\">"
      ],
      "text/plain": [
       "<IPython.core.display.HTML object>"
      ]
     },
     "metadata": {},
     "output_type": "display_data"
    }
   ],
   "source": [
    "display(HTML('<img src=\"./ex.png\">'))"
   ]
  },
  {
   "cell_type": "code",
   "execution_count": null,
   "metadata": {
    "collapsed": true
   },
   "outputs": [],
   "source": []
  },
  {
   "cell_type": "code",
   "execution_count": null,
   "metadata": {
    "collapsed": true
   },
   "outputs": [],
   "source": []
  }
 ],
 "metadata": {
  "kernelspec": {
   "display_name": "Python 2",
   "language": "python",
   "name": "python2"
  }
 },
 "nbformat": 4,
 "nbformat_minor": 2
}
